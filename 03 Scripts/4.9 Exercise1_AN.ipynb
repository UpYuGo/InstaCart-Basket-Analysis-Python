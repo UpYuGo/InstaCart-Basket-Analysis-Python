{
 "cells": [
  {
   "cell_type": "markdown",
   "id": "c9c83963-237c-45c8-8b6d-a5322b21d7bb",
   "metadata": {},
   "source": [
    "### Import libraries"
   ]
  },
  {
   "cell_type": "code",
   "execution_count": 35,
   "id": "1f9ef95c-7d3e-40af-b6d3-08b8304feed6",
   "metadata": {},
   "outputs": [],
   "source": [
    "import pandas as pd\n",
    "import numpy as np\n",
    "import os\n",
    "import matplotlib.pyplot as plt\n",
    "import seaborn as sns\n",
    "import scipy"
   ]
  },
  {
   "cell_type": "markdown",
   "id": "800e4f63-691d-4f71-b4c3-033cb49b3479",
   "metadata": {},
   "source": [
    "### Import data"
   ]
  },
  {
   "cell_type": "code",
   "execution_count": 37,
   "id": "dec9c159-e525-4512-96c0-b6dd3b957ca6",
   "metadata": {},
   "outputs": [],
   "source": [
    "# Create path\n",
    "path = r'C:\\Users\\nanh9\\Instacart Basket Analysis'"
   ]
  },
  {
   "cell_type": "code",
   "execution_count": 38,
   "id": "61d782cf-2217-4454-bda6-08b6b22114b8",
   "metadata": {},
   "outputs": [],
   "source": [
    "customers = pd.read_csv(os.path.join(path, '02 Data' , 'Original Data' , 'customers.csv'))"
   ]
  },
  {
   "cell_type": "markdown",
   "id": "9be3b506-903d-4c7b-abd2-9dc915b34a30",
   "metadata": {},
   "source": [
    "#### 4. Wrangle the data so that it follows consistent logic; for example, rename columns with illogical names and drop columns that don’t add anything to your analysis."
   ]
  },
  {
   "cell_type": "code",
   "execution_count": 40,
   "id": "c594be49-08c6-4ec1-9bc5-e50cb99a038a",
   "metadata": {},
   "outputs": [
    {
     "data": {
      "text/html": [
       "<div>\n",
       "<style scoped>\n",
       "    .dataframe tbody tr th:only-of-type {\n",
       "        vertical-align: middle;\n",
       "    }\n",
       "\n",
       "    .dataframe tbody tr th {\n",
       "        vertical-align: top;\n",
       "    }\n",
       "\n",
       "    .dataframe thead th {\n",
       "        text-align: right;\n",
       "    }\n",
       "</style>\n",
       "<table border=\"1\" class=\"dataframe\">\n",
       "  <thead>\n",
       "    <tr style=\"text-align: right;\">\n",
       "      <th></th>\n",
       "      <th>user_id</th>\n",
       "      <th>First Name</th>\n",
       "      <th>Surnam</th>\n",
       "      <th>Gender</th>\n",
       "      <th>STATE</th>\n",
       "      <th>Age</th>\n",
       "      <th>date_joined</th>\n",
       "      <th>n_dependants</th>\n",
       "      <th>fam_status</th>\n",
       "      <th>income</th>\n",
       "    </tr>\n",
       "  </thead>\n",
       "  <tbody>\n",
       "    <tr>\n",
       "      <th>0</th>\n",
       "      <td>26711</td>\n",
       "      <td>Deborah</td>\n",
       "      <td>Esquivel</td>\n",
       "      <td>Female</td>\n",
       "      <td>Missouri</td>\n",
       "      <td>48</td>\n",
       "      <td>1/1/2017</td>\n",
       "      <td>3</td>\n",
       "      <td>married</td>\n",
       "      <td>165665</td>\n",
       "    </tr>\n",
       "    <tr>\n",
       "      <th>1</th>\n",
       "      <td>33890</td>\n",
       "      <td>Patricia</td>\n",
       "      <td>Hart</td>\n",
       "      <td>Female</td>\n",
       "      <td>New Mexico</td>\n",
       "      <td>36</td>\n",
       "      <td>1/1/2017</td>\n",
       "      <td>0</td>\n",
       "      <td>single</td>\n",
       "      <td>59285</td>\n",
       "    </tr>\n",
       "    <tr>\n",
       "      <th>2</th>\n",
       "      <td>65803</td>\n",
       "      <td>Kenneth</td>\n",
       "      <td>Farley</td>\n",
       "      <td>Male</td>\n",
       "      <td>Idaho</td>\n",
       "      <td>35</td>\n",
       "      <td>1/1/2017</td>\n",
       "      <td>2</td>\n",
       "      <td>married</td>\n",
       "      <td>99568</td>\n",
       "    </tr>\n",
       "    <tr>\n",
       "      <th>3</th>\n",
       "      <td>125935</td>\n",
       "      <td>Michelle</td>\n",
       "      <td>Hicks</td>\n",
       "      <td>Female</td>\n",
       "      <td>Iowa</td>\n",
       "      <td>40</td>\n",
       "      <td>1/1/2017</td>\n",
       "      <td>0</td>\n",
       "      <td>single</td>\n",
       "      <td>42049</td>\n",
       "    </tr>\n",
       "    <tr>\n",
       "      <th>4</th>\n",
       "      <td>130797</td>\n",
       "      <td>Ann</td>\n",
       "      <td>Gilmore</td>\n",
       "      <td>Female</td>\n",
       "      <td>Maryland</td>\n",
       "      <td>26</td>\n",
       "      <td>1/1/2017</td>\n",
       "      <td>1</td>\n",
       "      <td>married</td>\n",
       "      <td>40374</td>\n",
       "    </tr>\n",
       "  </tbody>\n",
       "</table>\n",
       "</div>"
      ],
      "text/plain": [
       "   user_id First Name    Surnam  Gender       STATE  Age date_joined  \\\n",
       "0    26711    Deborah  Esquivel  Female    Missouri   48    1/1/2017   \n",
       "1    33890   Patricia      Hart  Female  New Mexico   36    1/1/2017   \n",
       "2    65803    Kenneth    Farley    Male       Idaho   35    1/1/2017   \n",
       "3   125935   Michelle     Hicks  Female        Iowa   40    1/1/2017   \n",
       "4   130797        Ann   Gilmore  Female    Maryland   26    1/1/2017   \n",
       "\n",
       "   n_dependants fam_status  income  \n",
       "0             3    married  165665  \n",
       "1             0     single   59285  \n",
       "2             2    married   99568  \n",
       "3             0     single   42049  \n",
       "4             1    married   40374  "
      ]
     },
     "execution_count": 40,
     "metadata": {},
     "output_type": "execute_result"
    }
   ],
   "source": [
    "# Check data\n",
    "customers.head()"
   ]
  },
  {
   "cell_type": "code",
   "execution_count": 41,
   "id": "39dd2df0-37c9-4fe1-88d5-6d5ff3664dbe",
   "metadata": {},
   "outputs": [
    {
     "data": {
      "text/plain": [
       "(206209, 10)"
      ]
     },
     "execution_count": 41,
     "metadata": {},
     "output_type": "execute_result"
    }
   ],
   "source": [
    "customers.shape"
   ]
  },
  {
   "cell_type": "code",
   "execution_count": 42,
   "id": "e0c0ab56-3b52-4802-ad1c-1103da05410e",
   "metadata": {},
   "outputs": [],
   "source": [
    "# renaming columns\n",
    "customers = customers.rename(columns={ \n",
    "    'First Name' : 'first_name',\n",
    "    'Surnam' : 'last_name', \n",
    "    'STATE' : 'state',  \n",
    "    'n_dependants' : 'dependents_count', \n",
    "    'fam_status' : 'family_status', \n",
    "    'Age' : 'age',\n",
    "    'Gender' : 'gender'})"
   ]
  },
  {
   "cell_type": "code",
   "execution_count": 43,
   "id": "ada3a5c5-18c1-4a39-951e-d7a33e5b5651",
   "metadata": {},
   "outputs": [],
   "source": [
    "customers = customers.rename(columns={'User ID' : 'user_id'})"
   ]
  },
  {
   "cell_type": "code",
   "execution_count": 44,
   "id": "050f4b24-0385-40e4-9902-87a703ab7bf6",
   "metadata": {},
   "outputs": [
    {
     "data": {
      "text/html": [
       "<div>\n",
       "<style scoped>\n",
       "    .dataframe tbody tr th:only-of-type {\n",
       "        vertical-align: middle;\n",
       "    }\n",
       "\n",
       "    .dataframe tbody tr th {\n",
       "        vertical-align: top;\n",
       "    }\n",
       "\n",
       "    .dataframe thead th {\n",
       "        text-align: right;\n",
       "    }\n",
       "</style>\n",
       "<table border=\"1\" class=\"dataframe\">\n",
       "  <thead>\n",
       "    <tr style=\"text-align: right;\">\n",
       "      <th></th>\n",
       "      <th>user_id</th>\n",
       "      <th>first_name</th>\n",
       "      <th>last_name</th>\n",
       "      <th>gender</th>\n",
       "      <th>state</th>\n",
       "      <th>age</th>\n",
       "      <th>date_joined</th>\n",
       "      <th>dependents_count</th>\n",
       "      <th>family_status</th>\n",
       "      <th>income</th>\n",
       "    </tr>\n",
       "  </thead>\n",
       "  <tbody>\n",
       "    <tr>\n",
       "      <th>0</th>\n",
       "      <td>26711</td>\n",
       "      <td>Deborah</td>\n",
       "      <td>Esquivel</td>\n",
       "      <td>Female</td>\n",
       "      <td>Missouri</td>\n",
       "      <td>48</td>\n",
       "      <td>1/1/2017</td>\n",
       "      <td>3</td>\n",
       "      <td>married</td>\n",
       "      <td>165665</td>\n",
       "    </tr>\n",
       "    <tr>\n",
       "      <th>1</th>\n",
       "      <td>33890</td>\n",
       "      <td>Patricia</td>\n",
       "      <td>Hart</td>\n",
       "      <td>Female</td>\n",
       "      <td>New Mexico</td>\n",
       "      <td>36</td>\n",
       "      <td>1/1/2017</td>\n",
       "      <td>0</td>\n",
       "      <td>single</td>\n",
       "      <td>59285</td>\n",
       "    </tr>\n",
       "    <tr>\n",
       "      <th>2</th>\n",
       "      <td>65803</td>\n",
       "      <td>Kenneth</td>\n",
       "      <td>Farley</td>\n",
       "      <td>Male</td>\n",
       "      <td>Idaho</td>\n",
       "      <td>35</td>\n",
       "      <td>1/1/2017</td>\n",
       "      <td>2</td>\n",
       "      <td>married</td>\n",
       "      <td>99568</td>\n",
       "    </tr>\n",
       "    <tr>\n",
       "      <th>3</th>\n",
       "      <td>125935</td>\n",
       "      <td>Michelle</td>\n",
       "      <td>Hicks</td>\n",
       "      <td>Female</td>\n",
       "      <td>Iowa</td>\n",
       "      <td>40</td>\n",
       "      <td>1/1/2017</td>\n",
       "      <td>0</td>\n",
       "      <td>single</td>\n",
       "      <td>42049</td>\n",
       "    </tr>\n",
       "    <tr>\n",
       "      <th>4</th>\n",
       "      <td>130797</td>\n",
       "      <td>Ann</td>\n",
       "      <td>Gilmore</td>\n",
       "      <td>Female</td>\n",
       "      <td>Maryland</td>\n",
       "      <td>26</td>\n",
       "      <td>1/1/2017</td>\n",
       "      <td>1</td>\n",
       "      <td>married</td>\n",
       "      <td>40374</td>\n",
       "    </tr>\n",
       "  </tbody>\n",
       "</table>\n",
       "</div>"
      ],
      "text/plain": [
       "   user_id first_name last_name  gender       state  age date_joined  \\\n",
       "0    26711    Deborah  Esquivel  Female    Missouri   48    1/1/2017   \n",
       "1    33890   Patricia      Hart  Female  New Mexico   36    1/1/2017   \n",
       "2    65803    Kenneth    Farley    Male       Idaho   35    1/1/2017   \n",
       "3   125935   Michelle     Hicks  Female        Iowa   40    1/1/2017   \n",
       "4   130797        Ann   Gilmore  Female    Maryland   26    1/1/2017   \n",
       "\n",
       "   dependents_count family_status  income  \n",
       "0                 3       married  165665  \n",
       "1                 0        single   59285  \n",
       "2                 2       married   99568  \n",
       "3                 0        single   42049  \n",
       "4                 1       married   40374  "
      ]
     },
     "execution_count": 44,
     "metadata": {},
     "output_type": "execute_result"
    }
   ],
   "source": [
    "customers.head()"
   ]
  },
  {
   "cell_type": "code",
   "execution_count": 45,
   "id": "bfd22ebf-e10b-4e8f-bfc6-d78286625a7b",
   "metadata": {},
   "outputs": [
    {
     "data": {
      "text/html": [
       "<div>\n",
       "<style scoped>\n",
       "    .dataframe tbody tr th:only-of-type {\n",
       "        vertical-align: middle;\n",
       "    }\n",
       "\n",
       "    .dataframe tbody tr th {\n",
       "        vertical-align: top;\n",
       "    }\n",
       "\n",
       "    .dataframe thead th {\n",
       "        text-align: right;\n",
       "    }\n",
       "</style>\n",
       "<table border=\"1\" class=\"dataframe\">\n",
       "  <thead>\n",
       "    <tr style=\"text-align: right;\">\n",
       "      <th></th>\n",
       "      <th>user_id</th>\n",
       "      <th>age</th>\n",
       "      <th>dependents_count</th>\n",
       "      <th>income</th>\n",
       "    </tr>\n",
       "  </thead>\n",
       "  <tbody>\n",
       "    <tr>\n",
       "      <th>count</th>\n",
       "      <td>206209.000000</td>\n",
       "      <td>206209.000000</td>\n",
       "      <td>206209.000000</td>\n",
       "      <td>206209.000000</td>\n",
       "    </tr>\n",
       "    <tr>\n",
       "      <th>mean</th>\n",
       "      <td>103105.000000</td>\n",
       "      <td>49.501646</td>\n",
       "      <td>1.499823</td>\n",
       "      <td>94632.852548</td>\n",
       "    </tr>\n",
       "    <tr>\n",
       "      <th>std</th>\n",
       "      <td>59527.555167</td>\n",
       "      <td>18.480962</td>\n",
       "      <td>1.118433</td>\n",
       "      <td>42473.786988</td>\n",
       "    </tr>\n",
       "    <tr>\n",
       "      <th>min</th>\n",
       "      <td>1.000000</td>\n",
       "      <td>18.000000</td>\n",
       "      <td>0.000000</td>\n",
       "      <td>25903.000000</td>\n",
       "    </tr>\n",
       "    <tr>\n",
       "      <th>25%</th>\n",
       "      <td>51553.000000</td>\n",
       "      <td>33.000000</td>\n",
       "      <td>0.000000</td>\n",
       "      <td>59874.000000</td>\n",
       "    </tr>\n",
       "    <tr>\n",
       "      <th>50%</th>\n",
       "      <td>103105.000000</td>\n",
       "      <td>49.000000</td>\n",
       "      <td>1.000000</td>\n",
       "      <td>93547.000000</td>\n",
       "    </tr>\n",
       "    <tr>\n",
       "      <th>75%</th>\n",
       "      <td>154657.000000</td>\n",
       "      <td>66.000000</td>\n",
       "      <td>3.000000</td>\n",
       "      <td>124244.000000</td>\n",
       "    </tr>\n",
       "    <tr>\n",
       "      <th>max</th>\n",
       "      <td>206209.000000</td>\n",
       "      <td>81.000000</td>\n",
       "      <td>3.000000</td>\n",
       "      <td>593901.000000</td>\n",
       "    </tr>\n",
       "  </tbody>\n",
       "</table>\n",
       "</div>"
      ],
      "text/plain": [
       "             user_id            age  dependents_count         income\n",
       "count  206209.000000  206209.000000     206209.000000  206209.000000\n",
       "mean   103105.000000      49.501646          1.499823   94632.852548\n",
       "std     59527.555167      18.480962          1.118433   42473.786988\n",
       "min         1.000000      18.000000          0.000000   25903.000000\n",
       "25%     51553.000000      33.000000          0.000000   59874.000000\n",
       "50%    103105.000000      49.000000          1.000000   93547.000000\n",
       "75%    154657.000000      66.000000          3.000000  124244.000000\n",
       "max    206209.000000      81.000000          3.000000  593901.000000"
      ]
     },
     "execution_count": 45,
     "metadata": {},
     "output_type": "execute_result"
    }
   ],
   "source": [
    "customers.describe()"
   ]
  },
  {
   "cell_type": "markdown",
   "id": "d543bf72-aa3b-4c58-b798-21c1d1c6d946",
   "metadata": {},
   "source": [
    "#### 5. Complete the fundamental data quality and consistency checks you’ve learned throughout this Achievement; for example, check for and address missing values and duplicates, and convert any mixed-type data."
   ]
  },
  {
   "cell_type": "code",
   "execution_count": 47,
   "id": "326ba23a-59a4-493f-8ab6-4a4f89e5bacd",
   "metadata": {},
   "outputs": [],
   "source": [
    "# Find missing values\n",
    "missing_values = customers.isnull().sum()"
   ]
  },
  {
   "cell_type": "code",
   "execution_count": 48,
   "id": "8416d141-fe61-4916-988c-8a75c0b3a0cc",
   "metadata": {},
   "outputs": [
    {
     "data": {
      "text/plain": [
       "user_id                 0\n",
       "first_name          11259\n",
       "last_name               0\n",
       "gender                  0\n",
       "state                   0\n",
       "age                     0\n",
       "date_joined             0\n",
       "dependents_count        0\n",
       "family_status           0\n",
       "income                  0\n",
       "dtype: int64"
      ]
     },
     "execution_count": 48,
     "metadata": {},
     "output_type": "execute_result"
    }
   ],
   "source": [
    "missing_values"
   ]
  },
  {
   "cell_type": "code",
   "execution_count": 49,
   "id": "309249eb-8b29-4019-81c8-107abebeee8d",
   "metadata": {},
   "outputs": [],
   "source": [
    "# Fing duplicated rows\n",
    "duplicates = customers.duplicated()"
   ]
  },
  {
   "cell_type": "code",
   "execution_count": 50,
   "id": "81f00a49-85c3-4d1d-a065-be1a81554bfb",
   "metadata": {},
   "outputs": [],
   "source": [
    "# Sum up total number of duplicates\n",
    "num_duplicates = duplicates.sum()"
   ]
  },
  {
   "cell_type": "code",
   "execution_count": 51,
   "id": "5e8c9301-2624-44cd-9940-eb0312cd0f25",
   "metadata": {},
   "outputs": [
    {
     "data": {
      "text/plain": [
       "0"
      ]
     },
     "execution_count": 51,
     "metadata": {},
     "output_type": "execute_result"
    }
   ],
   "source": [
    "num_duplicates"
   ]
  },
  {
   "cell_type": "markdown",
   "id": "1ea06078-295d-4f88-a764-5a9751ca8a07",
   "metadata": {},
   "source": [
    "no duplicates"
   ]
  },
  {
   "cell_type": "code",
   "execution_count": 53,
   "id": "395c71ca-c711-4149-80ad-a61d28d9d975",
   "metadata": {},
   "outputs": [
    {
     "data": {
      "text/plain": [
       "user_id              int64\n",
       "first_name          object\n",
       "last_name           object\n",
       "gender              object\n",
       "state               object\n",
       "age                  int64\n",
       "date_joined         object\n",
       "dependents_count     int64\n",
       "family_status       object\n",
       "income               int64\n",
       "dtype: object"
      ]
     },
     "execution_count": 53,
     "metadata": {},
     "output_type": "execute_result"
    }
   ],
   "source": [
    "# Look up column types\n",
    "customers.dtypes"
   ]
  },
  {
   "cell_type": "markdown",
   "id": "f8ff1125-c528-4361-9c46-6036b8698191",
   "metadata": {},
   "source": [
    "#### 6. Combine your customer data with the rest of your prepared Instacart data. (Hint: Make sure the key columns are the same data type!)"
   ]
  },
  {
   "cell_type": "code",
   "execution_count": 55,
   "id": "728a352f-672d-4e5d-bb82-a6548b635047",
   "metadata": {},
   "outputs": [],
   "source": [
    "# Import dataframe\n",
    "ords_prods_merge = pd.read_pickle(os.path.join(path, '02 Data', 'Prepared Data', 'aggregated_ords_prods_merge.pkl'))"
   ]
  },
  {
   "cell_type": "code",
   "execution_count": 56,
   "id": "d7e5c20d-b221-4e1d-9437-9709a707cd8e",
   "metadata": {},
   "outputs": [],
   "source": [
    "# Combine customer with ords_prods_merge\n",
    "merged_df = pd.merge(ords_prods_merge, customers, on='user_id', how='inner')"
   ]
  },
  {
   "cell_type": "code",
   "execution_count": 57,
   "id": "9806a5db-7f02-4f2e-ab65-abc1e8062376",
   "metadata": {
    "scrolled": true
   },
   "outputs": [
    {
     "data": {
      "text/html": [
       "<div>\n",
       "<style scoped>\n",
       "    .dataframe tbody tr th:only-of-type {\n",
       "        vertical-align: middle;\n",
       "    }\n",
       "\n",
       "    .dataframe tbody tr th {\n",
       "        vertical-align: top;\n",
       "    }\n",
       "\n",
       "    .dataframe thead th {\n",
       "        text-align: right;\n",
       "    }\n",
       "</style>\n",
       "<table border=\"1\" class=\"dataframe\">\n",
       "  <thead>\n",
       "    <tr style=\"text-align: right;\">\n",
       "      <th></th>\n",
       "      <th>product_id</th>\n",
       "      <th>product_name</th>\n",
       "      <th>aisle_id</th>\n",
       "      <th>department_id</th>\n",
       "      <th>prices</th>\n",
       "      <th>order_id</th>\n",
       "      <th>user_id</th>\n",
       "      <th>order_number</th>\n",
       "      <th>orders_day_of_week</th>\n",
       "      <th>order_hour_of_day</th>\n",
       "      <th>...</th>\n",
       "      <th>frequency_flag</th>\n",
       "      <th>first_name</th>\n",
       "      <th>last_name</th>\n",
       "      <th>gender</th>\n",
       "      <th>state</th>\n",
       "      <th>age</th>\n",
       "      <th>date_joined</th>\n",
       "      <th>dependents_count</th>\n",
       "      <th>family_status</th>\n",
       "      <th>income</th>\n",
       "    </tr>\n",
       "  </thead>\n",
       "  <tbody>\n",
       "    <tr>\n",
       "      <th>0</th>\n",
       "      <td>1</td>\n",
       "      <td>Chocolate Sandwich Cookies</td>\n",
       "      <td>61</td>\n",
       "      <td>19</td>\n",
       "      <td>5.8</td>\n",
       "      <td>186761</td>\n",
       "      <td>186761</td>\n",
       "      <td>7</td>\n",
       "      <td>2</td>\n",
       "      <td>8</td>\n",
       "      <td>...</td>\n",
       "      <td>Frequent Customer</td>\n",
       "      <td>NaN</td>\n",
       "      <td>Morse</td>\n",
       "      <td>Male</td>\n",
       "      <td>Wisconsin</td>\n",
       "      <td>49</td>\n",
       "      <td>5/28/2018</td>\n",
       "      <td>0</td>\n",
       "      <td>single</td>\n",
       "      <td>111493</td>\n",
       "    </tr>\n",
       "    <tr>\n",
       "      <th>1</th>\n",
       "      <td>1</td>\n",
       "      <td>Chocolate Sandwich Cookies</td>\n",
       "      <td>61</td>\n",
       "      <td>19</td>\n",
       "      <td>5.8</td>\n",
       "      <td>200390</td>\n",
       "      <td>200390</td>\n",
       "      <td>4</td>\n",
       "      <td>2</td>\n",
       "      <td>0</td>\n",
       "      <td>...</td>\n",
       "      <td>Frequent Customer</td>\n",
       "      <td>Peter</td>\n",
       "      <td>Villegas</td>\n",
       "      <td>Male</td>\n",
       "      <td>Georgia</td>\n",
       "      <td>21</td>\n",
       "      <td>10/19/2018</td>\n",
       "      <td>1</td>\n",
       "      <td>living with parents and siblings</td>\n",
       "      <td>79894</td>\n",
       "    </tr>\n",
       "    <tr>\n",
       "      <th>2</th>\n",
       "      <td>1</td>\n",
       "      <td>Chocolate Sandwich Cookies</td>\n",
       "      <td>61</td>\n",
       "      <td>19</td>\n",
       "      <td>5.8</td>\n",
       "      <td>19989</td>\n",
       "      <td>19989</td>\n",
       "      <td>11</td>\n",
       "      <td>2</td>\n",
       "      <td>7</td>\n",
       "      <td>...</td>\n",
       "      <td>Frequent Customer</td>\n",
       "      <td>Marilyn</td>\n",
       "      <td>Lyons</td>\n",
       "      <td>Female</td>\n",
       "      <td>Washington</td>\n",
       "      <td>81</td>\n",
       "      <td>6/5/2019</td>\n",
       "      <td>2</td>\n",
       "      <td>married</td>\n",
       "      <td>112668</td>\n",
       "    </tr>\n",
       "    <tr>\n",
       "      <th>3</th>\n",
       "      <td>1</td>\n",
       "      <td>Chocolate Sandwich Cookies</td>\n",
       "      <td>61</td>\n",
       "      <td>19</td>\n",
       "      <td>5.8</td>\n",
       "      <td>138748</td>\n",
       "      <td>138748</td>\n",
       "      <td>30</td>\n",
       "      <td>3</td>\n",
       "      <td>16</td>\n",
       "      <td>...</td>\n",
       "      <td>Frequent Customer</td>\n",
       "      <td>NaN</td>\n",
       "      <td>Mason</td>\n",
       "      <td>Female</td>\n",
       "      <td>North Carolina</td>\n",
       "      <td>81</td>\n",
       "      <td>11/11/2017</td>\n",
       "      <td>3</td>\n",
       "      <td>married</td>\n",
       "      <td>164020</td>\n",
       "    </tr>\n",
       "    <tr>\n",
       "      <th>4</th>\n",
       "      <td>1</td>\n",
       "      <td>Chocolate Sandwich Cookies</td>\n",
       "      <td>61</td>\n",
       "      <td>19</td>\n",
       "      <td>5.8</td>\n",
       "      <td>49629</td>\n",
       "      <td>49629</td>\n",
       "      <td>18</td>\n",
       "      <td>1</td>\n",
       "      <td>14</td>\n",
       "      <td>...</td>\n",
       "      <td>Non_frequent_customer</td>\n",
       "      <td>Gregory</td>\n",
       "      <td>Cain</td>\n",
       "      <td>Male</td>\n",
       "      <td>Colorado</td>\n",
       "      <td>24</td>\n",
       "      <td>9/27/2017</td>\n",
       "      <td>3</td>\n",
       "      <td>married</td>\n",
       "      <td>100653</td>\n",
       "    </tr>\n",
       "  </tbody>\n",
       "</table>\n",
       "<p>5 rows × 34 columns</p>\n",
       "</div>"
      ],
      "text/plain": [
       "   product_id                product_name  aisle_id  department_id  prices  \\\n",
       "0           1  Chocolate Sandwich Cookies        61             19     5.8   \n",
       "1           1  Chocolate Sandwich Cookies        61             19     5.8   \n",
       "2           1  Chocolate Sandwich Cookies        61             19     5.8   \n",
       "3           1  Chocolate Sandwich Cookies        61             19     5.8   \n",
       "4           1  Chocolate Sandwich Cookies        61             19     5.8   \n",
       "\n",
       "   order_id  user_id  order_number  orders_day_of_week  order_hour_of_day  \\\n",
       "0    186761   186761             7                   2                  8   \n",
       "1    200390   200390             4                   2                  0   \n",
       "2     19989    19989            11                   2                  7   \n",
       "3    138748   138748            30                   3                 16   \n",
       "4     49629    49629            18                   1                 14   \n",
       "\n",
       "   ...         frequency_flag  first_name  last_name  gender           state  \\\n",
       "0  ...      Frequent Customer         NaN      Morse    Male       Wisconsin   \n",
       "1  ...      Frequent Customer       Peter   Villegas    Male         Georgia   \n",
       "2  ...      Frequent Customer     Marilyn      Lyons  Female      Washington   \n",
       "3  ...      Frequent Customer         NaN      Mason  Female  North Carolina   \n",
       "4  ...  Non_frequent_customer     Gregory       Cain    Male        Colorado   \n",
       "\n",
       "  age date_joined dependents_count                     family_status  income  \n",
       "0  49   5/28/2018                0                            single  111493  \n",
       "1  21  10/19/2018                1  living with parents and siblings   79894  \n",
       "2  81    6/5/2019                2                           married  112668  \n",
       "3  81  11/11/2017                3                           married  164020  \n",
       "4  24   9/27/2017                3                           married  100653  \n",
       "\n",
       "[5 rows x 34 columns]"
      ]
     },
     "execution_count": 57,
     "metadata": {},
     "output_type": "execute_result"
    }
   ],
   "source": [
    "# Check merge\n",
    "merged_df.head()"
   ]
  },
  {
   "cell_type": "code",
   "execution_count": 58,
   "id": "f87c8b65-348b-44e6-85dc-a4e57250db17",
   "metadata": {},
   "outputs": [
    {
     "data": {
      "text/plain": [
       "(1953168, 34)"
      ]
     },
     "execution_count": 58,
     "metadata": {},
     "output_type": "execute_result"
    }
   ],
   "source": [
    "merged_df.shape"
   ]
  },
  {
   "cell_type": "code",
   "execution_count": 59,
   "id": "7f887a50-40d9-47d8-81fd-ab405305f976",
   "metadata": {},
   "outputs": [
    {
     "data": {
      "text/plain": [
       "Index(['product_id', 'product_name', 'aisle_id', 'department_id', 'prices',\n",
       "       'order_id', 'user_id', 'order_number', 'orders_day_of_week',\n",
       "       'order_hour_of_day', 'days_since_last_order', 'first_order',\n",
       "       'add_to_cart_order', 'reordered', '_merge', 'price_range_loc',\n",
       "       'busiest_day', 'busiest_days', 'busiest_period_of_day', 'max_order',\n",
       "       'loyalty_flag', 'average_spend', 'spending_flag', 'Customer_frequency',\n",
       "       'frequency_flag', 'first_name', 'last_name', 'gender', 'state', 'age',\n",
       "       'date_joined', 'dependents_count', 'family_status', 'income'],\n",
       "      dtype='object')"
      ]
     },
     "execution_count": 59,
     "metadata": {},
     "output_type": "execute_result"
    }
   ],
   "source": [
    "merged_df.columns"
   ]
  },
  {
   "cell_type": "code",
   "execution_count": 60,
   "id": "d5bf3787-7c13-4440-8b43-87b066d4148a",
   "metadata": {},
   "outputs": [],
   "source": [
    "# Drop unnecessary column '_merge'\n",
    "merged_df = merged_df.drop(columns=['_merge'])"
   ]
  },
  {
   "cell_type": "markdown",
   "id": "4712448c-f4aa-4d65-99c6-7e0510d27d8b",
   "metadata": {},
   "source": [
    "#### 7. Ensure your notebook contains logical titles, section headings, and descriptive code comments."
   ]
  },
  {
   "cell_type": "markdown",
   "id": "d60ab3b9-add2-4d4b-9c1e-8b56a581483c",
   "metadata": {},
   "source": [
    "#### 8. Export data"
   ]
  },
  {
   "cell_type": "code",
   "execution_count": 63,
   "id": "780f56c6-8aa9-4bc6-81de-b589f55e32b9",
   "metadata": {},
   "outputs": [],
   "source": [
    "merged_df.to_pickle(os.path.join(path, '02 Data','Prepared Data', 'ords_prods_cust_merge.pkl'))"
   ]
  }
 ],
 "metadata": {
  "kernelspec": {
   "display_name": "Python 3 (ipykernel)",
   "language": "python",
   "name": "python3"
  },
  "language_info": {
   "codemirror_mode": {
    "name": "ipython",
    "version": 3
   },
   "file_extension": ".py",
   "mimetype": "text/x-python",
   "name": "python",
   "nbconvert_exporter": "python",
   "pygments_lexer": "ipython3",
   "version": "3.12.4"
  }
 },
 "nbformat": 4,
 "nbformat_minor": 5
}
